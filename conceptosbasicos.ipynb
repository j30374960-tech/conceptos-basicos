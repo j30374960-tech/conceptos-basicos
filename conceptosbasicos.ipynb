{
  "nbformat": 4,
  "nbformat_minor": 0,
  "metadata": {
    "colab": {
      "provenance": [],
      "authorship_tag": "ABX9TyMPQQmmayFJm8OC+F87wsLx",
      "include_colab_link": true
    },
    "kernelspec": {
      "name": "python3",
      "display_name": "Python 3"
    },
    "language_info": {
      "name": "python"
    }
  },
  "cells": [
    {
      "cell_type": "markdown",
      "metadata": {
        "id": "view-in-github",
        "colab_type": "text"
      },
      "source": [
        "<a href=\"https://colab.research.google.com/github/j30374960-tech/conceptos-basicos/blob/main/conceptosbasicos.ipynb\" target=\"_parent\"><img src=\"https://colab.research.google.com/assets/colab-badge.svg\" alt=\"Open In Colab\"/></a>"
      ]
    },
    {
      "cell_type": "markdown",
      "source": [
        "# **Conceptos basicos-Juan Andres Herrera Rivera**"
      ],
      "metadata": {
        "id": "NHuqy1X4vDTk"
      }
    },
    {
      "cell_type": "markdown",
      "source": [
        "Variables"
      ],
      "metadata": {
        "id": "Xi_7SU3fw1MC"
      }
    },
    {
      "cell_type": "code",
      "source": [
        "x = 1 # entero\n",
        "y = 2.5 # float\n",
        "\n",
        "nombre = \"pepe\" # string\n",
        "apellido = \"perez\"\n",
        "\n",
        "print(type(x))\n",
        "print(type(y))\n",
        "print(type(nombre))"
      ],
      "metadata": {
        "colab": {
          "base_uri": "https://localhost:8080/"
        },
        "id": "9SV0L9WUuPKE",
        "outputId": "1cc1bb00-9633-4022-cd83-e9879c52d34c"
      },
      "execution_count": null,
      "outputs": [
        {
          "output_type": "stream",
          "name": "stdout",
          "text": [
            "<class 'int'>\n",
            "<class 'float'>\n",
            "<class 'str'>\n"
          ]
        }
      ]
    },
    {
      "cell_type": "code",
      "source": [
        "resultados = x + y\n",
        "print(resultados)\n"
      ],
      "metadata": {
        "colab": {
          "base_uri": "https://localhost:8080/"
        },
        "id": "DaQy1kdhvola",
        "outputId": "5c578cb6-ba1e-4d2f-a883-ca4dd802d319"
      },
      "execution_count": null,
      "outputs": [
        {
          "output_type": "stream",
          "name": "stdout",
          "text": [
            "3.5\n"
          ]
        }
      ]
    },
    {
      "cell_type": "code",
      "source": [
        "nobre_completo = nombre + \" \" + apellido\n",
        "print(nobre_completo)"
      ],
      "metadata": {
        "colab": {
          "base_uri": "https://localhost:8080/"
        },
        "id": "sBILkP6BwEiY",
        "outputId": "761e467e-bb25-4416-cadb-7a16e13ef2b1"
      },
      "execution_count": null,
      "outputs": [
        {
          "output_type": "stream",
          "name": "stdout",
          "text": [
            "pepe perez\n"
          ]
        }
      ]
    },
    {
      "cell_type": "code",
      "source": [
        "resultados = x + y\n",
        "print(\"El resultado de la suma x y y es: \", resultados)"
      ],
      "metadata": {
        "colab": {
          "base_uri": "https://localhost:8080/"
        },
        "id": "unAId2FMxEvD",
        "outputId": "d4b46601-5012-4c98-fffd-fc04c77676c7"
      },
      "execution_count": null,
      "outputs": [
        {
          "output_type": "stream",
          "name": "stdout",
          "text": [
            "El resultado de la suma x y y es:  3.5\n"
          ]
        }
      ]
    },
    {
      "cell_type": "code",
      "source": [
        "# input\n",
        "\n",
        "nombre = input(\"Ingrese su nombre: \")\n",
        "print(\"Hola\", nombre)"
      ],
      "metadata": {
        "colab": {
          "base_uri": "https://localhost:8080/"
        },
        "id": "ZUv8eowPdW-f",
        "outputId": "2376ae5c-32ca-492a-9868-1eb0bb4e7f61"
      },
      "execution_count": null,
      "outputs": [
        {
          "output_type": "stream",
          "name": "stdout",
          "text": [
            "Ingrese su nombre: Juan\n",
            "Hola Juan\n"
          ]
        }
      ]
    },
    {
      "cell_type": "code",
      "source": [
        "# round\n",
        "\n",
        "x = 1.4567865456\n",
        "print(round(x, 2))"
      ],
      "metadata": {
        "colab": {
          "base_uri": "https://localhost:8080/"
        },
        "id": "8x_0pc8bdxLW",
        "outputId": "05653da5-535c-4fc6-c2c7-fa629bf9e0cd"
      },
      "execution_count": null,
      "outputs": [
        {
          "output_type": "stream",
          "name": "stdout",
          "text": [
            "1.46\n"
          ]
        }
      ]
    },
    {
      "cell_type": "markdown",
      "source": [
        "Crear un programa donde se solicita ingresar su nombre y su edad, donde se imprima un mensaje saludándolo y donde se indique cuantos años tendrá en cinco años."
      ],
      "metadata": {
        "id": "NGui2tsueZdc"
      }
    },
    {
      "cell_type": "code",
      "source": [
        "nombre = input(\"Ingrese su nombre: \")\n",
        "print(\"Hola\", nombre)\n",
        "\n",
        "edad = input(\"Ingrese su edad: \")\n",
        "edad = int(edad)\n",
        "\n",
        "print(\"En cinco años tendra\", edad + 5)"
      ],
      "metadata": {
        "colab": {
          "base_uri": "https://localhost:8080/"
        },
        "id": "2rWOvyOLewTd",
        "outputId": "41a63fa2-00e3-487c-c83c-04b46b4451d1"
      },
      "execution_count": null,
      "outputs": [
        {
          "output_type": "stream",
          "name": "stdout",
          "text": [
            "Ingrese su nombre: Juan\n",
            "Hola Juan\n",
            "Ingrese su edad: 19\n",
            "En cinco años tendra 24\n"
          ]
        }
      ]
    },
    {
      "cell_type": "markdown",
      "source": [
        "Estructuras de datos"
      ],
      "metadata": {
        "id": "XyG7t4mPrisk"
      }
    },
    {
      "cell_type": "code",
      "source": [
        "# crear lista\n",
        "\n",
        "mi_lista =  [1, 2, 3, 4, 5]\n",
        "print(mi_lista)"
      ],
      "metadata": {
        "colab": {
          "base_uri": "https://localhost:8080/"
        },
        "id": "yqANPtS7kiTj",
        "outputId": "699bf5b3-e49a-4eb6-c992-cf48b07a6c43"
      },
      "execution_count": null,
      "outputs": [
        {
          "output_type": "stream",
          "name": "stdout",
          "text": [
            "[1, 2, 3, 4, 5]\n"
          ]
        }
      ]
    },
    {
      "cell_type": "code",
      "source": [
        "print(mi_lista[4])"
      ],
      "metadata": {
        "colab": {
          "base_uri": "https://localhost:8080/"
        },
        "id": "GEEQkOepkuGl",
        "outputId": "29f68092-e8b1-4bcb-935e-e931662b1441"
      },
      "execution_count": null,
      "outputs": [
        {
          "output_type": "stream",
          "name": "stdout",
          "text": [
            "5\n"
          ]
        }
      ]
    },
    {
      "cell_type": "code",
      "source": [
        "print(len(mi_lista))"
      ],
      "metadata": {
        "colab": {
          "base_uri": "https://localhost:8080/"
        },
        "id": "VLBsVUnAk8C7",
        "outputId": "20492129-4cdd-4f29-edd3-15b3ea10126d"
      },
      "execution_count": null,
      "outputs": [
        {
          "output_type": "stream",
          "name": "stdout",
          "text": [
            "5\n"
          ]
        }
      ]
    },
    {
      "cell_type": "code",
      "source": [
        "mi_lista.append(9)\n",
        "print(mi_lista)"
      ],
      "metadata": {
        "colab": {
          "base_uri": "https://localhost:8080/"
        },
        "id": "u7ilDqJslSFu",
        "outputId": "4d82ccb5-0693-4862-e972-fde8a5a443d0"
      },
      "execution_count": null,
      "outputs": [
        {
          "output_type": "stream",
          "name": "stdout",
          "text": [
            "[1, 2, 3, 4, 5, 9]\n"
          ]
        }
      ]
    },
    {
      "cell_type": "code",
      "source": [
        "frutas = [\"manzana\", \"banana\", \"cereza\"]\n",
        "frutas.append(\"mango\")\n",
        "print(frutas)"
      ],
      "metadata": {
        "colab": {
          "base_uri": "https://localhost:8080/"
        },
        "id": "NaF4vNt9llpH",
        "outputId": "cc5e01b6-c560-436e-9854-c39acfdbffa3"
      },
      "execution_count": null,
      "outputs": [
        {
          "output_type": "stream",
          "name": "stdout",
          "text": [
            "['manzana', 'banana', 'cereza', 'mango']\n"
          ]
        }
      ]
    },
    {
      "cell_type": "code",
      "source": [
        "# modificar\n",
        "\n",
        "frutas.remove(\"banana\")\n",
        "print(frutas)"
      ],
      "metadata": {
        "colab": {
          "base_uri": "https://localhost:8080/"
        },
        "id": "fa4JnnYfl9An",
        "outputId": "4f342994-27c1-42c6-dd6d-a3c960b6575d"
      },
      "execution_count": null,
      "outputs": [
        {
          "output_type": "stream",
          "name": "stdout",
          "text": [
            "['manzana', 'cereza', 'mango']\n"
          ]
        }
      ]
    },
    {
      "cell_type": "code",
      "source": [
        "frutas[0] = \"pera\"\n",
        "print(frutas)"
      ],
      "metadata": {
        "colab": {
          "base_uri": "https://localhost:8080/"
        },
        "id": "WCnVY5ExmXe_",
        "outputId": "0c90e18c-aad2-4933-ba9b-391a637f3f41"
      },
      "execution_count": null,
      "outputs": [
        {
          "output_type": "stream",
          "name": "stdout",
          "text": [
            "['pera', 'cereza', 'mango']\n"
          ]
        }
      ]
    },
    {
      "cell_type": "code",
      "source": [
        "type(frutas)"
      ],
      "metadata": {
        "colab": {
          "base_uri": "https://localhost:8080/"
        },
        "id": "BvOQx-z9nJVF",
        "outputId": "46fab5dc-59f7-4b39-eee2-268d32174a1c"
      },
      "execution_count": null,
      "outputs": [
        {
          "output_type": "execute_result",
          "data": {
            "text/plain": [
              "list"
            ]
          },
          "metadata": {},
          "execution_count": 15
        }
      ]
    },
    {
      "cell_type": "code",
      "source": [
        "mi_tupla = (1, 2, 3, 4, 5)\n",
        "print(mi_tupla)\n",
        "type(mi_tupla)"
      ],
      "metadata": {
        "colab": {
          "base_uri": "https://localhost:8080/"
        },
        "id": "xzKH6t53nVEy",
        "outputId": "565996e0-17d7-48a2-a063-a71ed298da31"
      },
      "execution_count": null,
      "outputs": [
        {
          "output_type": "stream",
          "name": "stdout",
          "text": [
            "(1, 2, 3, 4, 5)\n"
          ]
        },
        {
          "output_type": "execute_result",
          "data": {
            "text/plain": [
              "tuple"
            ]
          },
          "metadata": {},
          "execution_count": 16
        }
      ]
    },
    {
      "cell_type": "code",
      "source": [
        "mi_diccionario = {\"nombre\": \"pepe\", \"apellido\": \"perez\" , \"edad\" : 20}\n",
        "print(mi_diccionario)\n",
        "type(mi_diccionario)"
      ],
      "metadata": {
        "colab": {
          "base_uri": "https://localhost:8080/"
        },
        "id": "KambRBovndDy",
        "outputId": "ccdb95b9-5046-46a4-9968-b44bcbb9cfbb"
      },
      "execution_count": null,
      "outputs": [
        {
          "output_type": "stream",
          "name": "stdout",
          "text": [
            "{'nombre': 'pepe', 'apellido': 'perez', 'edad': 20}\n"
          ]
        },
        {
          "output_type": "execute_result",
          "data": {
            "text/plain": [
              "dict"
            ]
          },
          "metadata": {},
          "execution_count": 18
        }
      ]
    },
    {
      "cell_type": "code",
      "source": [
        "mi_diccionario[\"nombre\"] = \"Juan\"\n",
        "mi_diccionario[\"apellido\"] = \"Perez\"\n",
        "print(mi_diccionario)"
      ],
      "metadata": {
        "colab": {
          "base_uri": "https://localhost:8080/"
        },
        "id": "2bpXbY3GqQst",
        "outputId": "8d8257fe-53fe-45fc-9f23-122065ff2d8d"
      },
      "execution_count": null,
      "outputs": [
        {
          "output_type": "stream",
          "name": "stdout",
          "text": [
            "{'nombre': 'Juan', 'apellido': 'Perez', 'edad': 20}\n"
          ]
        }
      ]
    },
    {
      "cell_type": "markdown",
      "source": [
        "Estructura de control de fluo"
      ],
      "metadata": {
        "id": "O7vOp6VDrsmw"
      }
    },
    {
      "cell_type": "code",
      "source": [
        "x = input(\"Ingrese un numero: \")\n",
        "x = int(x)\n",
        "type(x)\n",
        "\n"
      ],
      "metadata": {
        "colab": {
          "base_uri": "https://localhost:8080/"
        },
        "id": "TyxRzWTxrwZK",
        "outputId": "42ee87eb-4225-492c-8ff5-33198881a678"
      },
      "execution_count": null,
      "outputs": [
        {
          "name": "stdout",
          "output_type": "stream",
          "text": [
            "Ingrese un numero: 8\n"
          ]
        },
        {
          "output_type": "execute_result",
          "data": {
            "text/plain": [
              "int"
            ]
          },
          "metadata": {},
          "execution_count": 22
        }
      ]
    },
    {
      "cell_type": "code",
      "source": [
        "nota = input(\"Ingrese su nota: \")\n",
        "nota = int(nota)\n",
        "\n",
        "if nota >= 5:\n",
        "  print(\"Aprobado\")\n",
        "else:\n",
        "  print(\"Reprobado\")"
      ],
      "metadata": {
        "colab": {
          "base_uri": "https://localhost:8080/"
        },
        "id": "0VHZMzwAsXfZ",
        "outputId": "32d2c18f-920a-4e17-ae7f-d7f1b79b304e"
      },
      "execution_count": null,
      "outputs": [
        {
          "output_type": "stream",
          "name": "stdout",
          "text": [
            "Ingrese su nota: 3\n",
            "Reprobado\n"
          ]
        }
      ]
    },
    {
      "cell_type": "markdown",
      "source": [
        "**Ejercicio**"
      ],
      "metadata": {
        "id": "pQZgHuc2s52N"
      }
    },
    {
      "cell_type": "code",
      "source": [
        "edad = input(\"Ingrese su edad: \")\n",
        "edad = int(edad)\n",
        "\n",
        "if edad < 2:\n",
        "  print(\"Infante\")\n",
        "if edad >= 2 and edad <= 12:\n",
        "  print(\"Niño\")\n",
        "if edad > 12 and edad <= 17:\n",
        "  print(\"Adolescente\")\n",
        "if edad >= 18 and edad <= 64:\n",
        "  print(\"Adulto\")\n",
        "if edad >= 65:\n",
        "  print(\"senior\")\n"
      ],
      "metadata": {
        "colab": {
          "base_uri": "https://localhost:8080/"
        },
        "id": "Oyux-cRms8lz",
        "outputId": "a7a7df4e-b5e4-4039-f5a5-26587f1b6b9d"
      },
      "execution_count": null,
      "outputs": [
        {
          "output_type": "stream",
          "name": "stdout",
          "text": [
            "Ingrese su edad: 56\n",
            "Adulto\n"
          ]
        }
      ]
    },
    {
      "cell_type": "markdown",
      "source": [
        "Toma una variable y le da una secuencia"
      ],
      "metadata": {
        "id": "ddMPURTKyvdV"
      }
    },
    {
      "cell_type": "code",
      "source": [
        "# ciclos for\n",
        "\n",
        "frutas = [\"manzana\", \"banana\", \"cereza\"]\n",
        "for fruta in frutas:\n",
        "  print(\"me gusta comer\", fruta)\n"
      ],
      "metadata": {
        "colab": {
          "base_uri": "https://localhost:8080/"
        },
        "id": "tbemZ3iyx_WV",
        "outputId": "805bcb33-65da-4413-9fe0-4f179cf931b8"
      },
      "execution_count": null,
      "outputs": [
        {
          "output_type": "stream",
          "name": "stdout",
          "text": [
            "me gusta comer manzana\n",
            "me gusta comer banana\n",
            "me gusta comer cereza\n"
          ]
        }
      ]
    },
    {
      "cell_type": "code",
      "source": [
        "\n",
        "lista = [1, 2, 3, 4, 5]\n",
        "for numero in lista:\n",
        "  print(numero *10)"
      ],
      "metadata": {
        "colab": {
          "base_uri": "https://localhost:8080/"
        },
        "id": "I7JckpnJy0HG",
        "outputId": "180a4657-fbeb-4675-ad5f-ab35200fc4cd"
      },
      "execution_count": null,
      "outputs": [
        {
          "output_type": "stream",
          "name": "stdout",
          "text": [
            "10\n",
            "20\n",
            "30\n",
            "40\n",
            "50\n"
          ]
        }
      ]
    },
    {
      "cell_type": "code",
      "source": [
        "# ciclo while\n",
        "\n",
        "contador = 0\n",
        "while contador < 5:\n",
        "  print(contador)\n",
        "  contador += 1"
      ],
      "metadata": {
        "colab": {
          "base_uri": "https://localhost:8080/"
        },
        "id": "8LOjj-UngIZn",
        "outputId": "46e1af50-626c-4fdd-b95d-6e9014b3d9fc"
      },
      "execution_count": null,
      "outputs": [
        {
          "output_type": "stream",
          "name": "stdout",
          "text": [
            "0\n",
            "1\n",
            "2\n",
            "3\n",
            "4\n"
          ]
        }
      ]
    },
    {
      "cell_type": "markdown",
      "source": [
        "Funciones"
      ],
      "metadata": {
        "id": "4mHmZAaigqCO"
      }
    },
    {
      "cell_type": "code",
      "source": [
        "def saludar():\n",
        "  print(\"Hola\")"
      ],
      "metadata": {
        "id": "Nmkqta1Rgm0g"
      },
      "execution_count": null,
      "outputs": []
    },
    {
      "cell_type": "code",
      "source": [
        "saludar()"
      ],
      "metadata": {
        "colab": {
          "base_uri": "https://localhost:8080/"
        },
        "id": "v2figA3fg4x_",
        "outputId": "1208c85a-cd95-46b9-fba7-cda4c75d3d7a"
      },
      "execution_count": null,
      "outputs": [
        {
          "output_type": "stream",
          "name": "stdout",
          "text": [
            "Hola\n"
          ]
        }
      ]
    },
    {
      "cell_type": "code",
      "source": [
        "def saludarpepe(nombre):\n",
        "  print(\"Hola \" + nombre + \"¡\")"
      ],
      "metadata": {
        "id": "_QyigXFAg9tY"
      },
      "execution_count": null,
      "outputs": []
    },
    {
      "cell_type": "code",
      "source": [
        "saludarpepe(\"pepe\")"
      ],
      "metadata": {
        "colab": {
          "base_uri": "https://localhost:8080/"
        },
        "id": "iy1loi0RhO94",
        "outputId": "ccf43b82-ac28-4e3e-8fa4-fb890dae88e9"
      },
      "execution_count": null,
      "outputs": [
        {
          "output_type": "stream",
          "name": "stdout",
          "text": [
            "Hola pepe¡\n"
          ]
        }
      ]
    },
    {
      "cell_type": "code",
      "source": [
        "def sumatoria(numero1, numero2):\n",
        "  resultado = numero1 + numero2\n",
        "  return resultado"
      ],
      "metadata": {
        "id": "ogEAitCFhbqG"
      },
      "execution_count": null,
      "outputs": []
    },
    {
      "cell_type": "code",
      "source": [
        "sumatoria(2, 3)"
      ],
      "metadata": {
        "colab": {
          "base_uri": "https://localhost:8080/"
        },
        "id": "U7Qffk2BhiEE",
        "outputId": "5cb0b5dc-5da1-4c13-e685-563040b7ae2d"
      },
      "execution_count": null,
      "outputs": [
        {
          "output_type": "execute_result",
          "data": {
            "text/plain": [
              "5"
            ]
          },
          "metadata": {},
          "execution_count": 11
        }
      ]
    },
    {
      "cell_type": "code",
      "source": [
        "import math\n",
        "\n",
        "def calcular_circunferencia(radio):\n",
        "  \"\"\"Calcula la circunferencia de un círculo dado su radio.\"\"\"\n",
        "  return 2 * math.pi * radio\n",
        "\n",
        "# Solicitar el radio al usuario\n",
        "radio_str = input(\"Ingrese el radio del círculo: \")\n",
        "\n",
        "# Convertir el radio a número (puede ser float o int)\n",
        "try:\n",
        "  radio = float(radio_str)\n",
        "  # Calcular la circunferencia\n",
        "  circunferencia = calcular_circunferencia(radio)\n",
        "  print(f\"La circunferencia del círculo con radio {radio} es: {circunferencia}\")\n",
        "except ValueError:\n",
        "  print(\"Entrada inválida. Por favor ingrese un número para el radio.\")"
      ],
      "metadata": {
        "colab": {
          "base_uri": "https://localhost:8080/"
        },
        "id": "ZYgOb1zQiSJW",
        "outputId": "3fa3e9c4-d327-4329-82fc-e0db1c2c97d2"
      },
      "execution_count": null,
      "outputs": [
        {
          "output_type": "stream",
          "name": "stdout",
          "text": [
            "Ingrese el radio del círculo: 5\n",
            "La circunferencia del círculo con radio 5.0 es: 31.41592653589793\n"
          ]
        }
      ]
    },
    {
      "cell_type": "code",
      "source": [
        "import math\n",
        "\n",
        "def calcular_area_circulo(radio):\n",
        "  \"\"\"Calcula el área de un círculo dado su radio.\"\"\"\n",
        "  return math.pi * (radio ** 2)\n",
        "\n",
        "# Solicitar el radio al usuario\n",
        "radio_str = input(\"Ingrese el radio del círculo: \")\n",
        "\n",
        "# Convertir el radio a número (puede ser float o int)\n",
        "try:\n",
        "  radio = float(radio_str)\n",
        "  # Calcular el área\n",
        "  area = calcular_area_circulo(radio)\n",
        "  print(f\"El área del círculo con radio {radio} es: {area}\")\n",
        "except ValueError:\n",
        "  print(\"Entrada inválida. Por favor ingrese un número para el radio.\")"
      ],
      "metadata": {
        "colab": {
          "base_uri": "https://localhost:8080/"
        },
        "id": "SBn1ZNMkjM4T",
        "outputId": "567e8670-eb6b-49d1-916b-078840f4e322"
      },
      "execution_count": null,
      "outputs": [
        {
          "output_type": "stream",
          "name": "stdout",
          "text": [
            "Ingrese el radio del círculo: 5\n",
            "El área del círculo con radio 5.0 es: 78.53981633974483\n"
          ]
        }
      ]
    },
    {
      "cell_type": "code",
      "source": [
        "def celsius_a_fahrenheit(celsius):\n",
        "  \"\"\"Convierte una temperatura de Celsius a Fahrenheit.\"\"\"\n",
        "  return (celsius * 9/5) + 32\n",
        "\n",
        "# Ejemplo de uso\n",
        "temp_celsius = 25\n",
        "temp_fahrenheit = celsius_a_fahrenheit(temp_celsius)\n",
        "print(f\"{temp_celsius} grados Celsius son {temp_fahrenheit} grados Fahrenheit.\")"
      ],
      "metadata": {
        "colab": {
          "base_uri": "https://localhost:8080/"
        },
        "id": "YXaszClmjVTJ",
        "outputId": "d054c81f-612b-4447-d830-6f95e333e092"
      },
      "execution_count": null,
      "outputs": [
        {
          "output_type": "stream",
          "name": "stdout",
          "text": [
            "25 grados Celsius son 77.0 grados Fahrenheit.\n"
          ]
        }
      ]
    },
    {
      "cell_type": "markdown",
      "source": [
        "Librerias"
      ],
      "metadata": {
        "id": "oBo2nfndkRDF"
      }
    },
    {
      "cell_type": "code",
      "source": [],
      "metadata": {
        "id": "UIujaQl_kSnt"
      },
      "execution_count": null,
      "outputs": []
    },
    {
      "cell_type": "markdown",
      "metadata": {
        "id": "45addb1f"
      },
      "source": [
        "Aquí tienes algunas de las librerías más utilizadas en Python para el análisis de datos:\n",
        "\n",
        "*   **Pandas:** Es fundamental para la manipulación y análisis de datos. Ofrece estructuras de datos como DataFrames, que son ideales para trabajar con datos tabulares.\n",
        "*   **NumPy:** Proporciona soporte para arrays y matrices, junto con una gran colección de funciones matemáticas para operar con ellos. Es la base para muchas otras librerías científicas.\n",
        "*   **Matplotlib:** Una librería muy completa para crear visualizaciones estáticas, interactivas y animadas en Python. Es excelente para crear gráficos y plots.\n",
        "*   **Seaborn:** Basada en Matplotlib, Seaborn facilita la creación de gráficos estadísticos atractivos e informativos.\n",
        "*   **Scikit-learn:** Una librería muy popular para machine learning. Incluye una amplia gama de algoritmos de clasificación, regresión, clustering y más.\n",
        "*   **SciPy:** Ofrece módulos para optimización, álgebra lineal, integración, interpolación, funciones especiales, FFT, procesamiento de señales, resolución de ecuaciones diferenciales, etc.\n",
        "\n",
        "Estas librerías, combinadas, forman un poderoso ecosistema para el análisis de datos en Python."
      ]
    },
    {
      "cell_type": "code",
      "source": [
        "import pandas as pd"
      ],
      "metadata": {
        "id": "BRT1QKqdky6e"
      },
      "execution_count": null,
      "outputs": []
    },
    {
      "cell_type": "markdown",
      "source": [
        "pip install pandas"
      ],
      "metadata": {
        "id": "WYeyyxZklMm7"
      }
    },
    {
      "cell_type": "code",
      "source": [
        "import pandas as pd\n",
        "\n",
        "# Crear un diccionario con datos de ejemplo para una industria (manufactura)\n",
        "datos_industria = {\n",
        "    'Producto': ['Tornillo', 'Tuerca', 'Arandela', 'Tornillo', 'Tuerca'],\n",
        "    'Línea de Producción': ['A', 'B', 'A', 'A', 'B'],\n",
        "    'Cantidad Producida': [1000, 1500, 800, 1200, 1300],\n",
        "    'Costo por Unidad': [0.05, 0.08, 0.03, 0.05, 0.08],\n",
        "    'Fecha de Producción': ['2023-10-01', '2023-10-01', '2023-10-02', '2023-10-02', '2023-10-03']\n",
        "}\n",
        "\n",
        "# Crear el DataFrame\n",
        "df_industria = pd.DataFrame(datos_industria)\n",
        "\n",
        "# Mostrar el DataFrame\n",
        "print(\"Ejemplo de DataFrame para una industria:\")\n",
        "display(df_industria)"
      ],
      "metadata": {
        "colab": {
          "base_uri": "https://localhost:8080/",
          "height": 223
        },
        "id": "dyB6klEmlCi1",
        "outputId": "67f5ac6a-bd81-4499-de25-27c06f7543d4"
      },
      "execution_count": null,
      "outputs": [
        {
          "output_type": "stream",
          "name": "stdout",
          "text": [
            "Ejemplo de DataFrame para una industria:\n"
          ]
        },
        {
          "output_type": "display_data",
          "data": {
            "text/plain": [
              "   Producto Línea de Producción  Cantidad Producida  Costo por Unidad  \\\n",
              "0  Tornillo                   A                1000              0.05   \n",
              "1    Tuerca                   B                1500              0.08   \n",
              "2  Arandela                   A                 800              0.03   \n",
              "3  Tornillo                   A                1200              0.05   \n",
              "4    Tuerca                   B                1300              0.08   \n",
              "\n",
              "  Fecha de Producción  \n",
              "0          2023-10-01  \n",
              "1          2023-10-01  \n",
              "2          2023-10-02  \n",
              "3          2023-10-02  \n",
              "4          2023-10-03  "
            ],
            "text/html": [
              "\n",
              "  <div id=\"df-90b05115-fbfe-4eb7-a88a-42b7eb207f95\" class=\"colab-df-container\">\n",
              "    <div>\n",
              "<style scoped>\n",
              "    .dataframe tbody tr th:only-of-type {\n",
              "        vertical-align: middle;\n",
              "    }\n",
              "\n",
              "    .dataframe tbody tr th {\n",
              "        vertical-align: top;\n",
              "    }\n",
              "\n",
              "    .dataframe thead th {\n",
              "        text-align: right;\n",
              "    }\n",
              "</style>\n",
              "<table border=\"1\" class=\"dataframe\">\n",
              "  <thead>\n",
              "    <tr style=\"text-align: right;\">\n",
              "      <th></th>\n",
              "      <th>Producto</th>\n",
              "      <th>Línea de Producción</th>\n",
              "      <th>Cantidad Producida</th>\n",
              "      <th>Costo por Unidad</th>\n",
              "      <th>Fecha de Producción</th>\n",
              "    </tr>\n",
              "  </thead>\n",
              "  <tbody>\n",
              "    <tr>\n",
              "      <th>0</th>\n",
              "      <td>Tornillo</td>\n",
              "      <td>A</td>\n",
              "      <td>1000</td>\n",
              "      <td>0.05</td>\n",
              "      <td>2023-10-01</td>\n",
              "    </tr>\n",
              "    <tr>\n",
              "      <th>1</th>\n",
              "      <td>Tuerca</td>\n",
              "      <td>B</td>\n",
              "      <td>1500</td>\n",
              "      <td>0.08</td>\n",
              "      <td>2023-10-01</td>\n",
              "    </tr>\n",
              "    <tr>\n",
              "      <th>2</th>\n",
              "      <td>Arandela</td>\n",
              "      <td>A</td>\n",
              "      <td>800</td>\n",
              "      <td>0.03</td>\n",
              "      <td>2023-10-02</td>\n",
              "    </tr>\n",
              "    <tr>\n",
              "      <th>3</th>\n",
              "      <td>Tornillo</td>\n",
              "      <td>A</td>\n",
              "      <td>1200</td>\n",
              "      <td>0.05</td>\n",
              "      <td>2023-10-02</td>\n",
              "    </tr>\n",
              "    <tr>\n",
              "      <th>4</th>\n",
              "      <td>Tuerca</td>\n",
              "      <td>B</td>\n",
              "      <td>1300</td>\n",
              "      <td>0.08</td>\n",
              "      <td>2023-10-03</td>\n",
              "    </tr>\n",
              "  </tbody>\n",
              "</table>\n",
              "</div>\n",
              "    <div class=\"colab-df-buttons\">\n",
              "\n",
              "  <div class=\"colab-df-container\">\n",
              "    <button class=\"colab-df-convert\" onclick=\"convertToInteractive('df-90b05115-fbfe-4eb7-a88a-42b7eb207f95')\"\n",
              "            title=\"Convert this dataframe to an interactive table.\"\n",
              "            style=\"display:none;\">\n",
              "\n",
              "  <svg xmlns=\"http://www.w3.org/2000/svg\" height=\"24px\" viewBox=\"0 -960 960 960\">\n",
              "    <path d=\"M120-120v-720h720v720H120Zm60-500h600v-160H180v160Zm220 220h160v-160H400v160Zm0 220h160v-160H400v160ZM180-400h160v-160H180v160Zm440 0h160v-160H620v160ZM180-180h160v-160H180v160Zm440 0h160v-160H620v160Z\"/>\n",
              "  </svg>\n",
              "    </button>\n",
              "\n",
              "  <style>\n",
              "    .colab-df-container {\n",
              "      display:flex;\n",
              "      gap: 12px;\n",
              "    }\n",
              "\n",
              "    .colab-df-convert {\n",
              "      background-color: #E8F0FE;\n",
              "      border: none;\n",
              "      border-radius: 50%;\n",
              "      cursor: pointer;\n",
              "      display: none;\n",
              "      fill: #1967D2;\n",
              "      height: 32px;\n",
              "      padding: 0 0 0 0;\n",
              "      width: 32px;\n",
              "    }\n",
              "\n",
              "    .colab-df-convert:hover {\n",
              "      background-color: #E2EBFA;\n",
              "      box-shadow: 0px 1px 2px rgba(60, 64, 67, 0.3), 0px 1px 3px 1px rgba(60, 64, 67, 0.15);\n",
              "      fill: #174EA6;\n",
              "    }\n",
              "\n",
              "    .colab-df-buttons div {\n",
              "      margin-bottom: 4px;\n",
              "    }\n",
              "\n",
              "    [theme=dark] .colab-df-convert {\n",
              "      background-color: #3B4455;\n",
              "      fill: #D2E3FC;\n",
              "    }\n",
              "\n",
              "    [theme=dark] .colab-df-convert:hover {\n",
              "      background-color: #434B5C;\n",
              "      box-shadow: 0px 1px 3px 1px rgba(0, 0, 0, 0.15);\n",
              "      filter: drop-shadow(0px 1px 2px rgba(0, 0, 0, 0.3));\n",
              "      fill: #FFFFFF;\n",
              "    }\n",
              "  </style>\n",
              "\n",
              "    <script>\n",
              "      const buttonEl =\n",
              "        document.querySelector('#df-90b05115-fbfe-4eb7-a88a-42b7eb207f95 button.colab-df-convert');\n",
              "      buttonEl.style.display =\n",
              "        google.colab.kernel.accessAllowed ? 'block' : 'none';\n",
              "\n",
              "      async function convertToInteractive(key) {\n",
              "        const element = document.querySelector('#df-90b05115-fbfe-4eb7-a88a-42b7eb207f95');\n",
              "        const dataTable =\n",
              "          await google.colab.kernel.invokeFunction('convertToInteractive',\n",
              "                                                    [key], {});\n",
              "        if (!dataTable) return;\n",
              "\n",
              "        const docLinkHtml = 'Like what you see? Visit the ' +\n",
              "          '<a target=\"_blank\" href=https://colab.research.google.com/notebooks/data_table.ipynb>data table notebook</a>'\n",
              "          + ' to learn more about interactive tables.';\n",
              "        element.innerHTML = '';\n",
              "        dataTable['output_type'] = 'display_data';\n",
              "        await google.colab.output.renderOutput(dataTable, element);\n",
              "        const docLink = document.createElement('div');\n",
              "        docLink.innerHTML = docLinkHtml;\n",
              "        element.appendChild(docLink);\n",
              "      }\n",
              "    </script>\n",
              "  </div>\n",
              "\n",
              "\n",
              "    <div id=\"df-3e6ba06a-545d-4cc7-82f5-5e6bda962d8c\">\n",
              "      <button class=\"colab-df-quickchart\" onclick=\"quickchart('df-3e6ba06a-545d-4cc7-82f5-5e6bda962d8c')\"\n",
              "                title=\"Suggest charts\"\n",
              "                style=\"display:none;\">\n",
              "\n",
              "<svg xmlns=\"http://www.w3.org/2000/svg\" height=\"24px\"viewBox=\"0 0 24 24\"\n",
              "     width=\"24px\">\n",
              "    <g>\n",
              "        <path d=\"M19 3H5c-1.1 0-2 .9-2 2v14c0 1.1.9 2 2 2h14c1.1 0 2-.9 2-2V5c0-1.1-.9-2-2-2zM9 17H7v-7h2v7zm4 0h-2V7h2v10zm4 0h-2v-4h2v4z\"/>\n",
              "    </g>\n",
              "</svg>\n",
              "      </button>\n",
              "\n",
              "<style>\n",
              "  .colab-df-quickchart {\n",
              "      --bg-color: #E8F0FE;\n",
              "      --fill-color: #1967D2;\n",
              "      --hover-bg-color: #E2EBFA;\n",
              "      --hover-fill-color: #174EA6;\n",
              "      --disabled-fill-color: #AAA;\n",
              "      --disabled-bg-color: #DDD;\n",
              "  }\n",
              "\n",
              "  [theme=dark] .colab-df-quickchart {\n",
              "      --bg-color: #3B4455;\n",
              "      --fill-color: #D2E3FC;\n",
              "      --hover-bg-color: #434B5C;\n",
              "      --hover-fill-color: #FFFFFF;\n",
              "      --disabled-bg-color: #3B4455;\n",
              "      --disabled-fill-color: #666;\n",
              "  }\n",
              "\n",
              "  .colab-df-quickchart {\n",
              "    background-color: var(--bg-color);\n",
              "    border: none;\n",
              "    border-radius: 50%;\n",
              "    cursor: pointer;\n",
              "    display: none;\n",
              "    fill: var(--fill-color);\n",
              "    height: 32px;\n",
              "    padding: 0;\n",
              "    width: 32px;\n",
              "  }\n",
              "\n",
              "  .colab-df-quickchart:hover {\n",
              "    background-color: var(--hover-bg-color);\n",
              "    box-shadow: 0 1px 2px rgba(60, 64, 67, 0.3), 0 1px 3px 1px rgba(60, 64, 67, 0.15);\n",
              "    fill: var(--button-hover-fill-color);\n",
              "  }\n",
              "\n",
              "  .colab-df-quickchart-complete:disabled,\n",
              "  .colab-df-quickchart-complete:disabled:hover {\n",
              "    background-color: var(--disabled-bg-color);\n",
              "    fill: var(--disabled-fill-color);\n",
              "    box-shadow: none;\n",
              "  }\n",
              "\n",
              "  .colab-df-spinner {\n",
              "    border: 2px solid var(--fill-color);\n",
              "    border-color: transparent;\n",
              "    border-bottom-color: var(--fill-color);\n",
              "    animation:\n",
              "      spin 1s steps(1) infinite;\n",
              "  }\n",
              "\n",
              "  @keyframes spin {\n",
              "    0% {\n",
              "      border-color: transparent;\n",
              "      border-bottom-color: var(--fill-color);\n",
              "      border-left-color: var(--fill-color);\n",
              "    }\n",
              "    20% {\n",
              "      border-color: transparent;\n",
              "      border-left-color: var(--fill-color);\n",
              "      border-top-color: var(--fill-color);\n",
              "    }\n",
              "    30% {\n",
              "      border-color: transparent;\n",
              "      border-left-color: var(--fill-color);\n",
              "      border-top-color: var(--fill-color);\n",
              "      border-right-color: var(--fill-color);\n",
              "    }\n",
              "    40% {\n",
              "      border-color: transparent;\n",
              "      border-right-color: var(--fill-color);\n",
              "      border-top-color: var(--fill-color);\n",
              "    }\n",
              "    60% {\n",
              "      border-color: transparent;\n",
              "      border-right-color: var(--fill-color);\n",
              "    }\n",
              "    80% {\n",
              "      border-color: transparent;\n",
              "      border-right-color: var(--fill-color);\n",
              "      border-bottom-color: var(--fill-color);\n",
              "    }\n",
              "    90% {\n",
              "      border-color: transparent;\n",
              "      border-bottom-color: var(--fill-color);\n",
              "    }\n",
              "  }\n",
              "</style>\n",
              "\n",
              "      <script>\n",
              "        async function quickchart(key) {\n",
              "          const quickchartButtonEl =\n",
              "            document.querySelector('#' + key + ' button');\n",
              "          quickchartButtonEl.disabled = true;  // To prevent multiple clicks.\n",
              "          quickchartButtonEl.classList.add('colab-df-spinner');\n",
              "          try {\n",
              "            const charts = await google.colab.kernel.invokeFunction(\n",
              "                'suggestCharts', [key], {});\n",
              "          } catch (error) {\n",
              "            console.error('Error during call to suggestCharts:', error);\n",
              "          }\n",
              "          quickchartButtonEl.classList.remove('colab-df-spinner');\n",
              "          quickchartButtonEl.classList.add('colab-df-quickchart-complete');\n",
              "        }\n",
              "        (() => {\n",
              "          let quickchartButtonEl =\n",
              "            document.querySelector('#df-3e6ba06a-545d-4cc7-82f5-5e6bda962d8c button');\n",
              "          quickchartButtonEl.style.display =\n",
              "            google.colab.kernel.accessAllowed ? 'block' : 'none';\n",
              "        })();\n",
              "      </script>\n",
              "    </div>\n",
              "\n",
              "  <div id=\"id_838e2fb5-fc80-4c35-85d9-e11d6678e195\">\n",
              "    <style>\n",
              "      .colab-df-generate {\n",
              "        background-color: #E8F0FE;\n",
              "        border: none;\n",
              "        border-radius: 50%;\n",
              "        cursor: pointer;\n",
              "        display: none;\n",
              "        fill: #1967D2;\n",
              "        height: 32px;\n",
              "        padding: 0 0 0 0;\n",
              "        width: 32px;\n",
              "      }\n",
              "\n",
              "      .colab-df-generate:hover {\n",
              "        background-color: #E2EBFA;\n",
              "        box-shadow: 0px 1px 2px rgba(60, 64, 67, 0.3), 0px 1px 3px 1px rgba(60, 64, 67, 0.15);\n",
              "        fill: #174EA6;\n",
              "      }\n",
              "\n",
              "      [theme=dark] .colab-df-generate {\n",
              "        background-color: #3B4455;\n",
              "        fill: #D2E3FC;\n",
              "      }\n",
              "\n",
              "      [theme=dark] .colab-df-generate:hover {\n",
              "        background-color: #434B5C;\n",
              "        box-shadow: 0px 1px 3px 1px rgba(0, 0, 0, 0.15);\n",
              "        filter: drop-shadow(0px 1px 2px rgba(0, 0, 0, 0.3));\n",
              "        fill: #FFFFFF;\n",
              "      }\n",
              "    </style>\n",
              "    <button class=\"colab-df-generate\" onclick=\"generateWithVariable('df_industria')\"\n",
              "            title=\"Generate code using this dataframe.\"\n",
              "            style=\"display:none;\">\n",
              "\n",
              "  <svg xmlns=\"http://www.w3.org/2000/svg\" height=\"24px\"viewBox=\"0 0 24 24\"\n",
              "       width=\"24px\">\n",
              "    <path d=\"M7,19H8.4L18.45,9,17,7.55,7,17.6ZM5,21V16.75L18.45,3.32a2,2,0,0,1,2.83,0l1.4,1.43a1.91,1.91,0,0,1,.58,1.4,1.91,1.91,0,0,1-.58,1.4L9.25,21ZM18.45,9,17,7.55Zm-12,3A5.31,5.31,0,0,0,4.9,8.1,5.31,5.31,0,0,0,1,6.5,5.31,5.31,0,0,0,4.9,4.9,5.31,5.31,0,0,0,6.5,1,5.31,5.31,0,0,0,8.1,4.9,5.31,5.31,0,0,0,12,6.5,5.46,5.46,0,0,0,6.5,12Z\"/>\n",
              "  </svg>\n",
              "    </button>\n",
              "    <script>\n",
              "      (() => {\n",
              "      const buttonEl =\n",
              "        document.querySelector('#id_838e2fb5-fc80-4c35-85d9-e11d6678e195 button.colab-df-generate');\n",
              "      buttonEl.style.display =\n",
              "        google.colab.kernel.accessAllowed ? 'block' : 'none';\n",
              "\n",
              "      buttonEl.onclick = () => {\n",
              "        google.colab.notebook.generateWithVariable('df_industria');\n",
              "      }\n",
              "      })();\n",
              "    </script>\n",
              "  </div>\n",
              "\n",
              "    </div>\n",
              "  </div>\n"
            ],
            "application/vnd.google.colaboratory.intrinsic+json": {
              "type": "dataframe",
              "variable_name": "df_industria",
              "summary": "{\n  \"name\": \"df_industria\",\n  \"rows\": 5,\n  \"fields\": [\n    {\n      \"column\": \"Producto\",\n      \"properties\": {\n        \"dtype\": \"string\",\n        \"num_unique_values\": 3,\n        \"samples\": [\n          \"Tornillo\",\n          \"Tuerca\",\n          \"Arandela\"\n        ],\n        \"semantic_type\": \"\",\n        \"description\": \"\"\n      }\n    },\n    {\n      \"column\": \"L\\u00ednea de Producci\\u00f3n\",\n      \"properties\": {\n        \"dtype\": \"category\",\n        \"num_unique_values\": 2,\n        \"samples\": [\n          \"B\",\n          \"A\"\n        ],\n        \"semantic_type\": \"\",\n        \"description\": \"\"\n      }\n    },\n    {\n      \"column\": \"Cantidad Producida\",\n      \"properties\": {\n        \"dtype\": \"number\",\n        \"std\": 270,\n        \"min\": 800,\n        \"max\": 1500,\n        \"num_unique_values\": 5,\n        \"samples\": [\n          1500,\n          1300\n        ],\n        \"semantic_type\": \"\",\n        \"description\": \"\"\n      }\n    },\n    {\n      \"column\": \"Costo por Unidad\",\n      \"properties\": {\n        \"dtype\": \"number\",\n        \"std\": 0.0216794833886788,\n        \"min\": 0.03,\n        \"max\": 0.08,\n        \"num_unique_values\": 3,\n        \"samples\": [\n          0.05,\n          0.08\n        ],\n        \"semantic_type\": \"\",\n        \"description\": \"\"\n      }\n    },\n    {\n      \"column\": \"Fecha de Producci\\u00f3n\",\n      \"properties\": {\n        \"dtype\": \"object\",\n        \"num_unique_values\": 3,\n        \"samples\": [\n          \"2023-10-01\",\n          \"2023-10-02\"\n        ],\n        \"semantic_type\": \"\",\n        \"description\": \"\"\n      }\n    }\n  ]\n}"
            }
          },
          "metadata": {}
        }
      ]
    }
  ]
}